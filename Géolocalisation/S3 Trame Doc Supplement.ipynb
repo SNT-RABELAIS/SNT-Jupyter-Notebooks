{
 "cells": [
  {
   "cell_type": "raw",
   "metadata": {},
   "source": [
    "Quelques rappels de Python :\n",
    "\n",
    ">>> ligne=\"DURANT;David;homme;17\"   # ligne est une chaine de caracteres\n",
    ">>> infos=ligne.split(\";\")          # la fonction split découpe une chaine de caractères\n",
    ">>> infos\n",
    "['DURANT', 'David', 'homme', '17']  # infos est une liste\n",
    ">>>infos[1]                 # infos[1] est le deuxieme element de la liste\n",
    "                            # on compte à partir de 0\n",
    "'David'\n",
    ">>>prenom=infos[1]\n",
    ">>>prenom[2:4]              # slicing : découpage de chaîne de caractères\n",
    "'vi'                        # on compte toujours à partir de 0 !!\n",
    "                            # mais le dernier index est exclu (le 4)\n",
    ">>>prenom[3:]               # on prend les derniers caractères à partir\n",
    "'id'                        # de la position 3  \n",
    ">>>element[3]\n",
    "'17'                        # element[3] est une chaine de caractères\n",
    ">>>age = int(element[3])        # transtypage en entier\n",
    ">>>age\n",
    "17                          # age est un entier\n",
    ">>>age = float(element[3])      # transtypage en nombre flottant\n",
    ">>>age\n",
    "17.0                        # age est un nombre à virgule flottante (décimal)\n",
    "\n"
   ]
  },
  {
   "cell_type": "markdown",
   "metadata": {},
   "source": [
    "On considère la trame suivante :\n",
    "$GPGGA,123519,4852.42404,N,000217.70276,E,1,08,0.9,545.4,M,46.9,M,,*47\n"
   ]
  },
  {
   "cell_type": "markdown",
   "metadata": {},
   "source": [
    "Vérifier par un calcul que la latitude indiquée par cette trame vaut 48.873734° :\n",
    "\n",
    "\n",
    "\n"
   ]
  },
  {
   "cell_type": "markdown",
   "metadata": {},
   "source": [
    "Quelle instruction en python permet d’obtenir une liste à partir d’une chaîne de caractères nommée trame ?\n",
    "\n",
    "\n",
    "\n",
    "\n"
   ]
  },
  {
   "cell_type": "code",
   "execution_count": 15,
   "metadata": {},
   "outputs": [],
   "source": [
    "trame = \"$GPGGA,123519,4852.42404,N,000217.70276,E,1,08,0.9,545.4,M,46.9,M,,*47\""
   ]
  },
  {
   "cell_type": "markdown",
   "metadata": {},
   "source": [
    "On stocke dans la variable infos le résultat du découpage de la chaine de caractères"
   ]
  },
  {
   "cell_type": "code",
   "execution_count": 16,
   "metadata": {},
   "outputs": [],
   "source": [
    "liste=trame.split(\",\")"
   ]
  },
  {
   "cell_type": "markdown",
   "metadata": {},
   "source": [
    "On veut consulter le contenu de cette liste"
   ]
  },
  {
   "cell_type": "code",
   "execution_count": 17,
   "metadata": {},
   "outputs": [
    {
     "data": {
      "text/plain": [
       "['$GPGGA',\n",
       " '123519',\n",
       " '4852.42404',\n",
       " 'N',\n",
       " '000217.70276',\n",
       " 'E',\n",
       " '1',\n",
       " '08',\n",
       " '0.9',\n",
       " '545.4',\n",
       " 'M',\n",
       " '46.9',\n",
       " 'M',\n",
       " '',\n",
       " '*47']"
      ]
     },
     "execution_count": 17,
     "metadata": {},
     "output_type": "execute_result"
    }
   ],
   "source": [
    "liste"
   ]
  },
  {
   "cell_type": "markdown",
   "metadata": {},
   "source": [
    "Écrire l’instruction python qui va permettre de stocker dans la variable lat les caractères correspondant à la latitude."
   ]
  },
  {
   "cell_type": "code",
   "execution_count": 18,
   "metadata": {},
   "outputs": [],
   "source": [
    "lat=liste[2]"
   ]
  },
  {
   "cell_type": "code",
   "execution_count": 19,
   "metadata": {},
   "outputs": [
    {
     "data": {
      "text/plain": [
       "'4852.42404'"
      ]
     },
     "execution_count": 19,
     "metadata": {},
     "output_type": "execute_result"
    }
   ],
   "source": [
    "lat"
   ]
  },
  {
   "cell_type": "markdown",
   "metadata": {},
   "source": [
    "Écrire l’instruction python qui va permettre de stocker dans la variable lat_deg la valeur du nombre de degrés de la latitude au format « float » :"
   ]
  },
  {
   "cell_type": "code",
   "execution_count": 27,
   "metadata": {},
   "outputs": [],
   "source": [
    "lat_deg=float(lat[0:2])"
   ]
  },
  {
   "cell_type": "code",
   "execution_count": 28,
   "metadata": {},
   "outputs": [
    {
     "data": {
      "text/plain": [
       "48.0"
      ]
     },
     "execution_count": 28,
     "metadata": {},
     "output_type": "execute_result"
    }
   ],
   "source": [
    "lat_deg"
   ]
  },
  {
   "cell_type": "markdown",
   "metadata": {},
   "source": [
    "Écrire l’instruction python qui va permettre de stocker dans la variable lat_min les minutes de la latitude au format float en les convertissant en fraction décimale de degré."
   ]
  },
  {
   "cell_type": "code",
   "execution_count": 29,
   "metadata": {},
   "outputs": [],
   "source": [
    "lat_min=float(lat[2:10])"
   ]
  },
  {
   "cell_type": "code",
   "execution_count": 30,
   "metadata": {},
   "outputs": [
    {
     "data": {
      "text/plain": [
       "52.42404"
      ]
     },
     "execution_count": 30,
     "metadata": {},
     "output_type": "execute_result"
    }
   ],
   "source": [
    "lat_min"
   ]
  },
  {
   "cell_type": "markdown",
   "metadata": {},
   "source": [
    "Écrire l’instruction python qui va permettre de stocker dans la variable lat_dec la somme des deux précédentes variables pour obtenir la latitude au format décimal."
   ]
  },
  {
   "cell_type": "code",
   "execution_count": 31,
   "metadata": {},
   "outputs": [],
   "source": [
    "lat_dec=lat_deg + lat_min/60"
   ]
  },
  {
   "cell_type": "code",
   "execution_count": 32,
   "metadata": {},
   "outputs": [
    {
     "data": {
      "text/plain": [
       "48.873734"
      ]
     },
     "execution_count": 32,
     "metadata": {},
     "output_type": "execute_result"
    }
   ],
   "source": [
    "lat_dec"
   ]
  },
  {
   "cell_type": "markdown",
   "metadata": {},
   "source": [
    "Reproduire la même démarche pour la longitude pour obtenir long, long_deg, long_min et enfin long_dec (attention il y a 4 chiffres pour les degrés dans la trame) :"
   ]
  },
  {
   "cell_type": "code",
   "execution_count": 56,
   "metadata": {},
   "outputs": [],
   "source": [
    "long=liste[4]\n",
    "long_deg=float(long[0:4])\n",
    "long_min=float(long[4:11])\n",
    "long_dec=long_deg+long_min/60"
   ]
  },
  {
   "cell_type": "code",
   "execution_count": 57,
   "metadata": {},
   "outputs": [
    {
     "data": {
      "text/plain": [
       "2.0"
      ]
     },
     "execution_count": 57,
     "metadata": {},
     "output_type": "execute_result"
    }
   ],
   "source": [
    "long_deg"
   ]
  },
  {
   "cell_type": "code",
   "execution_count": 58,
   "metadata": {},
   "outputs": [
    {
     "data": {
      "text/plain": [
       "17.7027"
      ]
     },
     "execution_count": 58,
     "metadata": {},
     "output_type": "execute_result"
    }
   ],
   "source": [
    "long_min"
   ]
  },
  {
   "cell_type": "code",
   "execution_count": 59,
   "metadata": {},
   "outputs": [
    {
     "data": {
      "text/plain": [
       "2.295045"
      ]
     },
     "execution_count": 59,
     "metadata": {},
     "output_type": "execute_result"
    }
   ],
   "source": [
    "long_dec"
   ]
  },
  {
   "cell_type": "markdown",
   "metadata": {},
   "source": [
    "Executer ensuite le code suivant. Sur quel monument est centrée la carte qui s'affiche ?"
   ]
  },
  {
   "cell_type": "code",
   "execution_count": 60,
   "metadata": {},
   "outputs": [
    {
     "data": {
      "text/plain": [
       "True"
      ]
     },
     "execution_count": 60,
     "metadata": {},
     "output_type": "execute_result"
    }
   ],
   "source": [
    "import webbrowser\n",
    "webbrowser.open('https://www.openstreetmap.org/#map=' + '16' + '/' + str (lat_dec)+ '/' + str (long_dec))"
   ]
  },
  {
   "cell_type": "markdown",
   "metadata": {},
   "source": [
    "Réponse :\n",
    "Place de l'étoile à Paris\n"
   ]
  }
 ],
 "metadata": {
  "kernelspec": {
   "display_name": "Python 3",
   "language": "python",
   "name": "python3"
  },
  "language_info": {
   "codemirror_mode": {
    "name": "ipython",
    "version": 3
   },
   "file_extension": ".py",
   "mimetype": "text/x-python",
   "name": "python",
   "nbconvert_exporter": "python",
   "pygments_lexer": "ipython3",
   "version": "3.7.4"
  }
 },
 "nbformat": 4,
 "nbformat_minor": 2
}
