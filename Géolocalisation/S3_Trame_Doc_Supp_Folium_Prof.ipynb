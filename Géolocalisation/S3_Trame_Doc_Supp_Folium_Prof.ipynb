{
 "cells": [
  {
   "cell_type": "raw",
   "metadata": {},
   "source": [
    "Quelques rappels de Python :\n",
    "\n",
    ">>> ligne=\"DURANT;David;homme;17\"   # ligne est une chaine de caracteres\n",
    ">>> infos=ligne.split(\";\")          # la fonction split découpe une chaine de caractères\n",
    ">>> infos\n",
    "['DURANT', 'David', 'homme', '17']  # infos est une liste\n",
    ">>>infos[1]                 # infos[1] est le deuxieme element de la liste\n",
    "                            # on compte à partir de 0\n",
    "'David'\n",
    ">>>prenom=infos[1]\n",
    ">>>prenom[2:4]              # slicing : découpage de chaîne de caractères\n",
    "'vi'                        # on compte toujours à partir de 0 !!\n",
    "                            # mais le dernier index est exclu (le 4)\n",
    ">>>prenom[3:]               # on prend les derniers caractères à partir\n",
    "'id'                        # de la position 3  \n",
    ">>>element[3]\n",
    "'17'                        # element[3] est une chaine de caractères\n",
    ">>>age = int(element[3])        # transtypage en entier\n",
    ">>>age\n",
    "17                          # age est un entier\n",
    ">>>age = float(element[3])      # transtypage en nombre flottant\n",
    ">>>age\n",
    "17.0                        # age est un nombre à virgule flottante (décimal)\n",
    "\n"
   ]
  },
  {
   "cell_type": "markdown",
   "metadata": {},
   "source": [
    "On considère la trame suivante :\n",
    "$GPGGA,123519,4852.42404,N,000217.70276,E,1,08,0.9,545.4,M,46.9,M,,*47\n"
   ]
  },
  {
   "cell_type": "markdown",
   "metadata": {},
   "source": [
    "Vérifier par un calcul que la latitude indiquée par cette trame vaut 48.873734° :\n",
    "\n",
    "\n",
    "\n"
   ]
  },
  {
   "cell_type": "markdown",
   "metadata": {},
   "source": [
    "Quelle instruction en python permet d’obtenir une liste à partir d’une chaîne de caractères nommée trame ?\n",
    "\n",
    "\n",
    "\n",
    "\n"
   ]
  },
  {
   "cell_type": "code",
   "execution_count": 9,
   "metadata": {},
   "outputs": [],
   "source": [
    "trame = \"$GPGGA,123519,4852.42404,N,000217.70276,E,1,08,0.9,545.4,M,46.9,M,,*47\""
   ]
  },
  {
   "cell_type": "markdown",
   "metadata": {},
   "source": [
    "On stocke dans la variable infos le résultat du découpage de la chaine de caractères"
   ]
  },
  {
   "cell_type": "code",
   "execution_count": 10,
   "metadata": {},
   "outputs": [],
   "source": [
    "liste=trame.split(\",\")"
   ]
  },
  {
   "cell_type": "markdown",
   "metadata": {},
   "source": [
    "On veut consulter le contenu de cette liste"
   ]
  },
  {
   "cell_type": "code",
   "execution_count": 11,
   "metadata": {},
   "outputs": [
    {
     "data": {
      "text/plain": [
       "['$GPGGA',\n",
       " '123519',\n",
       " '4852.42404',\n",
       " 'N',\n",
       " '000217.70276',\n",
       " 'E',\n",
       " '1',\n",
       " '08',\n",
       " '0.9',\n",
       " '545.4',\n",
       " 'M',\n",
       " '46.9',\n",
       " 'M',\n",
       " '',\n",
       " '*47']"
      ]
     },
     "execution_count": 11,
     "metadata": {},
     "output_type": "execute_result"
    }
   ],
   "source": [
    "liste"
   ]
  },
  {
   "cell_type": "markdown",
   "metadata": {},
   "source": [
    "Écrire l’instruction python qui va permettre de stocker dans la variable lat les caractères correspondant à la latitude."
   ]
  },
  {
   "cell_type": "code",
   "execution_count": 12,
   "metadata": {},
   "outputs": [],
   "source": [
    "lat=liste[2]"
   ]
  },
  {
   "cell_type": "code",
   "execution_count": 13,
   "metadata": {},
   "outputs": [
    {
     "data": {
      "text/plain": [
       "'4852.42404'"
      ]
     },
     "execution_count": 13,
     "metadata": {},
     "output_type": "execute_result"
    }
   ],
   "source": [
    "lat"
   ]
  },
  {
   "cell_type": "markdown",
   "metadata": {},
   "source": [
    "Écrire l’instruction python qui va permettre de stocker dans la variable lat_deg la valeur du nombre de degrés de la latitude au format « float » :"
   ]
  },
  {
   "cell_type": "code",
   "execution_count": 14,
   "metadata": {},
   "outputs": [],
   "source": [
    "lat_deg=float(lat[0:2])"
   ]
  },
  {
   "cell_type": "code",
   "execution_count": 15,
   "metadata": {},
   "outputs": [
    {
     "data": {
      "text/plain": [
       "48.0"
      ]
     },
     "execution_count": 15,
     "metadata": {},
     "output_type": "execute_result"
    }
   ],
   "source": [
    "lat_deg"
   ]
  },
  {
   "cell_type": "markdown",
   "metadata": {},
   "source": [
    "Écrire l’instruction python qui va permettre de stocker dans la variable lat_min les minutes de la latitude au format float en les convertissant en fraction décimale de degré."
   ]
  },
  {
   "cell_type": "code",
   "execution_count": 16,
   "metadata": {},
   "outputs": [],
   "source": [
    "lat_min=float(lat[2:10])"
   ]
  },
  {
   "cell_type": "code",
   "execution_count": 17,
   "metadata": {},
   "outputs": [
    {
     "data": {
      "text/plain": [
       "52.42404"
      ]
     },
     "execution_count": 17,
     "metadata": {},
     "output_type": "execute_result"
    }
   ],
   "source": [
    "lat_min"
   ]
  },
  {
   "cell_type": "markdown",
   "metadata": {},
   "source": [
    "Écrire l’instruction python qui va permettre de stocker dans la variable lat_dec la somme des deux précédentes variables pour obtenir la latitude au format décimal."
   ]
  },
  {
   "cell_type": "code",
   "execution_count": 18,
   "metadata": {},
   "outputs": [],
   "source": [
    "lat_dec=lat_deg + lat_min/60"
   ]
  },
  {
   "cell_type": "code",
   "execution_count": 19,
   "metadata": {},
   "outputs": [
    {
     "data": {
      "text/plain": [
       "48.873734"
      ]
     },
     "execution_count": 19,
     "metadata": {},
     "output_type": "execute_result"
    }
   ],
   "source": [
    "lat_dec"
   ]
  },
  {
   "cell_type": "markdown",
   "metadata": {},
   "source": [
    "Reproduire la même démarche pour la longitude pour obtenir long, long_deg, long_min et enfin long_dec (attention il y a 4 chiffres pour les degrés dans la trame) :"
   ]
  },
  {
   "cell_type": "code",
   "execution_count": 20,
   "metadata": {},
   "outputs": [],
   "source": [
    "long=liste[4]\n",
    "long_deg=float(long[0:4])\n",
    "long_min=float(long[4:11])\n",
    "long_dec=long_deg+long_min/60"
   ]
  },
  {
   "cell_type": "code",
   "execution_count": 21,
   "metadata": {},
   "outputs": [
    {
     "data": {
      "text/plain": [
       "2.0"
      ]
     },
     "execution_count": 21,
     "metadata": {},
     "output_type": "execute_result"
    }
   ],
   "source": [
    "long_deg"
   ]
  },
  {
   "cell_type": "code",
   "execution_count": 22,
   "metadata": {},
   "outputs": [
    {
     "data": {
      "text/plain": [
       "17.7027"
      ]
     },
     "execution_count": 22,
     "metadata": {},
     "output_type": "execute_result"
    }
   ],
   "source": [
    "long_min"
   ]
  },
  {
   "cell_type": "code",
   "execution_count": 23,
   "metadata": {},
   "outputs": [
    {
     "data": {
      "text/plain": [
       "2.295045"
      ]
     },
     "execution_count": 23,
     "metadata": {},
     "output_type": "execute_result"
    }
   ],
   "source": [
    "long_dec"
   ]
  },
  {
   "cell_type": "markdown",
   "metadata": {},
   "source": [
    "Executer ensuite le code suivant. Sur quel monument est centrée la carte qui s'affiche ?"
   ]
  },
  {
   "cell_type": "code",
   "execution_count": 24,
   "metadata": {},
   "outputs": [
    {
     "name": "stdout",
     "output_type": "stream",
     "text": [
      "Requirement already satisfied: folium in c:\\users\\laurent_asus\\anaconda3\\lib\\site-packages (0.11.0)\n",
      "Requirement already satisfied: requests in c:\\users\\laurent_asus\\anaconda3\\lib\\site-packages (from folium) (2.24.0)\n",
      "Requirement already satisfied: jinja2>=2.9 in c:\\users\\laurent_asus\\anaconda3\\lib\\site-packages (from folium) (2.11.2)\n",
      "Requirement already satisfied: numpy in c:\\users\\laurent_asus\\anaconda3\\lib\\site-packages (from folium) (1.18.5)\n",
      "Requirement already satisfied: branca>=0.3.0 in c:\\users\\laurent_asus\\anaconda3\\lib\\site-packages (from folium) (0.4.1)\n",
      "Requirement already satisfied: idna<3,>=2.5 in c:\\users\\laurent_asus\\anaconda3\\lib\\site-packages (from requests->folium) (2.10)\n",
      "Requirement already satisfied: certifi>=2017.4.17 in c:\\users\\laurent_asus\\anaconda3\\lib\\site-packages (from requests->folium) (2020.6.20)\n",
      "Requirement already satisfied: urllib3!=1.25.0,!=1.25.1,<1.26,>=1.21.1 in c:\\users\\laurent_asus\\anaconda3\\lib\\site-packages (from requests->folium) (1.25.9)\n",
      "Requirement already satisfied: chardet<4,>=3.0.2 in c:\\users\\laurent_asus\\anaconda3\\lib\\site-packages (from requests->folium) (3.0.4)\n",
      "Requirement already satisfied: MarkupSafe>=0.23 in c:\\users\\laurent_asus\\anaconda3\\lib\\site-packages (from jinja2>=2.9->folium) (1.1.1)\n"
     ]
    },
    {
     "name": "stderr",
     "output_type": "stream",
     "text": [
      "ERROR: Could not find a version that satisfies the requirement webbrowser (from versions: none)\n",
      "ERROR: No matching distribution found for webbrowser\n"
     ]
    }
   ],
   "source": [
    "!pip install folium\n",
    "!pip install webbrowser\n",
    "#installation des librairies pour visualisation des résultats"
   ]
  },
  {
   "cell_type": "code",
   "execution_count": 25,
   "metadata": {},
   "outputs": [
    {
     "data": {
      "text/plain": [
       "True"
      ]
     },
     "execution_count": 25,
     "metadata": {},
     "output_type": "execute_result"
    }
   ],
   "source": [
    "import webbrowser\n",
    "webbrowser.open('https://www.openstreetmap.org/#map=' + '16' + '/' + str (lat_dec)+ '/' + str (long_dec))"
   ]
  },
  {
   "cell_type": "markdown",
   "metadata": {},
   "source": [
    "Si cela ne fonctionne pas à cause des paramètres de navigateur par défaut, alors on peut utiliser folium pour crééer une carte avec les coordonnées que l'on vient de déterminer."
   ]
  },
  {
   "cell_type": "code",
   "execution_count": 26,
   "metadata": {},
   "outputs": [
    {
     "data": {
      "text/html": [
       "<div style=\"width:100%;\"><div style=\"position:relative;width:100%;height:0;padding-bottom:60%;\"><span style=\"color:#565656\">Make this Notebook Trusted to load map: File -> Trust Notebook</span><iframe src=\"about:blank\" style=\"position:absolute;width:100%;height:100%;left:0;top:0;border:none !important;\" data-html=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 onload=\"this.contentDocument.open();this.contentDocument.write(atob(this.getAttribute('data-html')));this.contentDocument.close();\" allowfullscreen webkitallowfullscreen mozallowfullscreen></iframe></div></div>"
      ],
      "text/plain": [
       "<folium.folium.Map at 0x2326641d550>"
      ]
     },
     "execution_count": 26,
     "metadata": {},
     "output_type": "execute_result"
    }
   ],
   "source": [
    "import folium\n",
    "carte = folium.Map(location=[lat_dec, long_dec], zoom_start=15)\n",
    "\n",
    "#on peut placer un marqueur pour montrer le point sur la carte\n",
    "folium.Marker([lat_dec, long_dec], \n",
    "              popup=\"Arc de Triomphe\",\n",
    "              #icon=folium.Icon(color='red')\n",
    "             ).add_to(carte)\n",
    "\n",
    "#si l'on souhaite créer un fichier  html contenant la carte :\n",
    "#carte.save('maCarte.html')\n",
    "\n",
    "#si l'on souhaite afficher la carte dans le document jupyter : \n",
    "carte"
   ]
  },
  {
   "cell_type": "markdown",
   "metadata": {},
   "source": [
    "Réponse :\n",
    "Place de l'étoile à Paris\n"
   ]
  }
 ],
 "metadata": {
  "kernelspec": {
   "display_name": "Python 3",
   "language": "python",
   "name": "python3"
  },
  "language_info": {
   "codemirror_mode": {
    "name": "ipython",
    "version": 3
   },
   "file_extension": ".py",
   "mimetype": "text/x-python",
   "name": "python",
   "nbconvert_exporter": "python",
   "pygments_lexer": "ipython3",
   "version": "3.8.3"
  }
 },
 "nbformat": 4,
 "nbformat_minor": 2
}
